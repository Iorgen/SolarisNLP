{
 "cells": [
  {
   "cell_type": "code",
   "execution_count": 4,
   "metadata": {},
   "outputs": [
    {
     "name": "stdout",
     "output_type": "stream",
     "text": [
      "Список ключевых фраз \n",
      "['deep network architecture', 'design simple powerful', 'enables train deep', 'powerful deep network', 'architecture enables train']\n"
     ]
    }
   ],
   "source": [
    "from keybert import KeyBERT\n",
    "import torch\n",
    "import numpy as np\n",
    "from torch import nn\n",
    "\n",
    "abstract = \"\"\"In this paper, we design a simple yet \n",
    "powerful deep network architecture, U2-Net, \n",
    "for salient object detection (SOD). \n",
    "The architecture of our U2-Net is a two-level nested U-structure. \n",
    "The design has the following advantages: (1) it is able to capture more contextual information \n",
    "from different scales thanks to the mixture of \n",
    "receptive fields of different sizes in our proposed ReSidual U-blocks (RSU), \n",
    "(2) it increases the depth of the whole architecture without significantly \n",
    "increasing the computational cost because of the pooling operations used \n",
    "in these RSU blocks. This architecture enables us to train a deep network \n",
    "from scratch without using backbones from image classification tasks. \n",
    "We instantiate two models of the proposed architecture, U2-Net \n",
    "\"\"\"\n",
    "\n",
    "model = KeyBERT('distilbert-base-nli-mean-tokens')\n",
    "keywords = model.extract_keywords(abstract, keyphrase_length=3)\n",
    "print(f\"Список ключевых фраз \\n{keywords}\")"
   ]
  },
  {
   "cell_type": "code",
   "execution_count": null,
   "metadata": {},
   "outputs": [],
   "source": []
  }
 ],
 "metadata": {
  "kernelspec": {
   "display_name": "Python 3",
   "language": "python",
   "name": "python3"
  },
  "language_info": {
   "codemirror_mode": {
    "name": "ipython",
    "version": 3
   },
   "file_extension": ".py",
   "mimetype": "text/x-python",
   "name": "python",
   "nbconvert_exporter": "python",
   "pygments_lexer": "ipython3",
   "version": "3.8.5"
  }
 },
 "nbformat": 4,
 "nbformat_minor": 4
}
